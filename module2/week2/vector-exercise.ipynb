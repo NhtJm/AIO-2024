{
 "cells": [
  {
   "cell_type": "code",
   "execution_count": 2,
   "metadata": {},
   "outputs": [
    {
     "name": "stdout",
     "output_type": "stream",
     "text": [
      "7.416198487095663\n"
     ]
    }
   ],
   "source": [
    "# Vector length\n",
    "import numpy as np\n",
    "\n",
    "\n",
    "def compute_vector_length(vector):\n",
    "    len_of_vector = np.sqrt(np.sum(np.square(vector)))\n",
    "    return len_of_vector\n",
    "\n",
    "\n",
    "print(compute_vector_length([1, 2, 3, 4, 5]))"
   ]
  },
  {
   "cell_type": "code",
   "execution_count": 3,
   "metadata": {},
   "outputs": [
    {
     "name": "stdout",
     "output_type": "stream",
     "text": [
      "35\n"
     ]
    }
   ],
   "source": [
    "# Dot product\n",
    "def compute_dot_product(vector1, vector2):\n",
    "    result = np.dot(vector1, vector2)\n",
    "    return result\n",
    "\n",
    "\n",
    "print(compute_dot_product([1, 2, 3, 4, 5], [5, 4, 3, 2, 1]))"
   ]
  },
  {
   "cell_type": "code",
   "execution_count": 4,
   "metadata": {},
   "outputs": [
    {
     "name": "stdout",
     "output_type": "stream",
     "text": [
      "[14 32 50]\n"
     ]
    }
   ],
   "source": [
    "# Matrix multi vector\n",
    "def matrix_multi_vector(matrix, vector):\n",
    "    result = np.dot(matrix, vector)\n",
    "    return result\n",
    "\n",
    "\n",
    "print(matrix_multi_vector([[1, 2, 3], [4, 5, 6], [7, 8, 9]], [1, 2, 3]))"
   ]
  },
  {
   "cell_type": "code",
   "execution_count": 5,
   "metadata": {},
   "outputs": [
    {
     "name": "stdout",
     "output_type": "stream",
     "text": [
      "[[ 30  36  42]\n",
      " [ 66  81  96]\n",
      " [102 126 150]]\n"
     ]
    }
   ],
   "source": [
    "# Matrix multi matrix\n",
    "\n",
    "def matrix_multi_matrix(matrix1, matrix2):\n",
    "    result = np.dot(matrix1, matrix2)\n",
    "    return result\n",
    "\n",
    "\n",
    "print(matrix_multi_matrix([[1, 2, 3], [4, 5, 6], [\n",
    "      7, 8, 9]], [[1, 2, 3], [4, 5, 6], [7, 8, 9]]))"
   ]
  },
  {
   "cell_type": "code",
   "execution_count": 7,
   "metadata": {},
   "outputs": [
    {
     "name": "stdout",
     "output_type": "stream",
     "text": [
      "[[0.1  0.2 ]\n",
      " [0.15 0.05]]\n"
     ]
    }
   ],
   "source": [
    "# Matrix inverse\n",
    "\n",
    "def inverse_matrix(matrix):\n",
    "    det = np.linalg.det(matrix)\n",
    "    if det == 0:\n",
    "        return None\n",
    "    else:\n",
    "        result = np.linalg.inv(matrix)\n",
    "        return result\n",
    "\n",
    "\n",
    "print(inverse_matrix([[-2, 8], [6, -4]]))"
   ]
  },
  {
   "cell_type": "code",
   "execution_count": 8,
   "metadata": {},
   "outputs": [
    {
     "name": "stdout",
     "output_type": "stream",
     "text": [
      "(array([1. , 0.7]), array([[ 0.70710678, -0.4472136 ],\n",
      "       [ 0.70710678,  0.89442719]]))\n"
     ]
    }
   ],
   "source": [
    "# Eigenvector and Eigenvalues\n",
    "\n",
    "def compute_eigenvalues_eigenvectors(matrix):\n",
    "    eigenvalues = np.linalg.eig(matrix)[0]\n",
    "    eigenvectors = np.linalg.eig(matrix)[1]\n",
    "\n",
    "    return eigenvalues, eigenvectors\n",
    "\n",
    "\n",
    "print(compute_eigenvalues_eigenvectors([[0.9, 0.1], [0.2, 0.8]]))"
   ]
  },
  {
   "cell_type": "code",
   "execution_count": 9,
   "metadata": {},
   "outputs": [
    {
     "name": "stdout",
     "output_type": "stream",
     "text": [
      "0.5773502691896257\n"
     ]
    }
   ],
   "source": [
    "# Cosine similarity\n",
    "def compute_cosine(v1, v2):\n",
    "    dot_product = np.dot(v1, v2)\n",
    "    len_v1 = np.sqrt(np.sum(np.square(v1)))\n",
    "    len_v2 = np.sqrt(np.sum(np.square(v2)))\n",
    "    cos_sim = dot_product / (len_v1 * len_v2)\n",
    "    return cos_sim\n",
    "\n",
    "\n",
    "print(compute_cosine([1, 2, 3, 4], [1, 0, 3, 0]))"
   ]
  }
 ],
 "metadata": {
  "kernelspec": {
   "display_name": "Python 3",
   "language": "python",
   "name": "python3"
  },
  "language_info": {
   "codemirror_mode": {
    "name": "ipython",
    "version": 3
   },
   "file_extension": ".py",
   "mimetype": "text/x-python",
   "name": "python",
   "nbconvert_exporter": "python",
   "pygments_lexer": "ipython3",
   "version": "3.12.0"
  }
 },
 "nbformat": 4,
 "nbformat_minor": 2
}
