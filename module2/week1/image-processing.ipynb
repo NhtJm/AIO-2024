{
 "cells": [
  {
   "cell_type": "markdown",
   "metadata": {},
   "source": [
    "Question 12,13,14\n"
   ]
  },
  {
   "cell_type": "code",
   "execution_count": 1,
   "metadata": {},
   "outputs": [
    {
     "name": "stdout",
     "output_type": "stream",
     "text": [
      "Downloading...\n",
      "From: https://drive.google.com/uc?id=1i9dqan21DjQoG5Q_VEvm0LrVwAlXD0vB\n",
      "To: /Users/nhatnguyen/Documents/GIT/AIO2024/module2/week1/dog.jpeg\n",
      "100%|███████████████████████████████████████| 33.7k/33.7k [00:00<00:00, 613kB/s]\n"
     ]
    }
   ],
   "source": [
    "# Download image\n",
    "!gdown 1i9dqan21DjQoG5Q_VEvm0LrVwAlXD0vB"
   ]
  },
  {
   "cell_type": "code",
   "execution_count": 11,
   "metadata": {},
   "outputs": [
    {
     "name": "stderr",
     "output_type": "stream",
     "text": [
      "/var/folders/bh/qdg6p7652j33kvcvy6vq80g00000gn/T/ipykernel_3999/1388421914.py:12: RuntimeWarning: overflow encountered in scalar add\n",
      "  gray_img_01[i, j] = (max(R, G, B) + min(R, G, B)) / 2\n"
     ]
    },
    {
     "data": {
      "text/plain": [
       "102.5"
      ]
     },
     "execution_count": 11,
     "metadata": {},
     "output_type": "execute_result"
    }
   ],
   "source": [
    "import matplotlib.image as mpimg\n",
    "import numpy as np\n",
    "img = mpimg.imread(\n",
    "    '/Users/nhatnguyen/Documents/GIT/AIO2024/module2/week1/pic/dog.jpeg')\n",
    "#Lightness\n",
    "gray_img_01 = np.zeros((img.shape[0], img.shape[1]))\n",
    "\n",
    "for i in range(img.shape[0]):\n",
    "    for j in range(img.shape[1]):\n",
    "        R, G, B = img[i, j, :3]\n",
    "        gray_img_01[i, j] = (max(R, G, B) + min(R, G, B)) / 2\n",
    "gray_img_01[0, 0]"
   ]
  },
  {
   "cell_type": "code",
   "execution_count": 14,
   "metadata": {},
   "outputs": [
    {
     "data": {
      "text/plain": [
       "107.66666666666667"
      ]
     },
     "execution_count": 14,
     "metadata": {},
     "output_type": "execute_result"
    }
   ],
   "source": [
    "#Average\n",
    "gray_img_02 = gray_img_02 = np.mean(img, axis=2)\n",
    "\n",
    "gray_img_02[0, 0]"
   ]
  },
  {
   "cell_type": "code",
   "execution_count": 15,
   "metadata": {},
   "outputs": [
    {
     "data": {
      "text/plain": [
       "126.22999999999999"
      ]
     },
     "execution_count": 15,
     "metadata": {},
     "output_type": "execute_result"
    }
   ],
   "source": [
    "#Luminosity\n",
    "gray_img_03 = np.dot(img[..., :3], [0.21, 0.72, 0.07])\n",
    "gray_img_03[0, 0]"
   ]
  }
 ],
 "metadata": {
  "kernelspec": {
   "display_name": "Python 3",
   "language": "python",
   "name": "python3"
  },
  "language_info": {
   "codemirror_mode": {
    "name": "ipython",
    "version": 3
   },
   "file_extension": ".py",
   "mimetype": "text/x-python",
   "name": "python",
   "nbconvert_exporter": "python",
   "pygments_lexer": "ipython3",
   "version": "3.12.0"
  }
 },
 "nbformat": 4,
 "nbformat_minor": 2
}
