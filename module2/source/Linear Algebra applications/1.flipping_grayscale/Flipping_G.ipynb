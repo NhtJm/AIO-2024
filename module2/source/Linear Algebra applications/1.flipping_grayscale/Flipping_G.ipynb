{
 "cells": [
  {
   "cell_type": "markdown",
   "metadata": {},
   "source": [
    "### Simple example"
   ]
  },
  {
   "cell_type": "code",
   "execution_count": 2,
   "metadata": {},
   "outputs": [
    {
     "name": "stdout",
     "output_type": "stream",
     "text": [
      "[[0 1]\n",
      " [2 3]\n",
      " [4 5]]\n"
     ]
    }
   ],
   "source": [
    "import numpy as np\n",
    "\n",
    "height, width = 3, 2\n",
    "img = np.arange(6).reshape(3, 2)\n",
    "print(img)"
   ]
  },
  {
   "cell_type": "code",
   "execution_count": 3,
   "metadata": {},
   "outputs": [
    {
     "name": "stdout",
     "output_type": "stream",
     "text": [
      "[[ 1  0]\n",
      " [ 0 -1]]\n"
     ]
    }
   ],
   "source": [
    "transform = np.array([[1, 0],\n",
    "                      [0, -1]])\n",
    "print(transform)"
   ]
  },
  {
   "cell_type": "code",
   "execution_count": 4,
   "metadata": {},
   "outputs": [
    {
     "name": "stdout",
     "output_type": "stream",
     "text": [
      "[1 0]\n",
      "[ 1 -1]\n",
      "[ 1 -2]\n"
     ]
    }
   ],
   "source": [
    "A = np.array([[1, 0],\n",
    "              [0, -1]])\n",
    "\n",
    "v1 = np.array([1, 0])\n",
    "print(A.dot(v1))\n",
    "\n",
    "v2 = np.array([1, 1])\n",
    "print(A.dot(v2))\n",
    "\n",
    "v3 = np.array([1, 2])\n",
    "print(A.dot(v3))"
   ]
  },
  {
   "cell_type": "code",
   "execution_count": 5,
   "metadata": {},
   "outputs": [
    {
     "name": "stdout",
     "output_type": "stream",
     "text": [
      "[1 2]\n",
      "[1 1]\n",
      "[1 0]\n"
     ]
    }
   ],
   "source": [
    "A = np.array([[1, 0],\n",
    "              [0, -1]])\n",
    "\n",
    "H = 3\n",
    "p = np.array([0, H-1])\n",
    "\n",
    "v1 = np.array([1, 0])\n",
    "print(A.dot(v1) + p)\n",
    "\n",
    "v2 = np.array([1, 1])\n",
    "print(A.dot(v2) + p)\n",
    "\n",
    "v3 = np.array([1, 2])\n",
    "print(A.dot(v3) + p)"
   ]
  },
  {
   "cell_type": "code",
   "execution_count": 6,
   "metadata": {},
   "outputs": [
    {
     "name": "stdout",
     "output_type": "stream",
     "text": [
      "((0, 0)) -> (0, 2)\n",
      "((1, 0)) -> (1, 2)\n",
      "\n",
      "((0, 1)) -> (0, 1)\n",
      "((1, 1)) -> (1, 1)\n",
      "\n",
      "((0, 2)) -> (0, 0)\n",
      "((1, 2)) -> (1, 0)\n",
      "\n"
     ]
    }
   ],
   "source": [
    "# implement naively for the sake of simplicity\n",
    "height = 3\n",
    "width = 2\n",
    "img = np.arange(6).reshape(3, 2)\n",
    "\n",
    "A = np.array([[1, 0],\n",
    "              [0, -1]])\n",
    "p = np.array([0, H-1])\n",
    "\n",
    "for x2 in range(height):\n",
    "    for x1 in range(width):      \n",
    "        v = np.array([x1, x2])\n",
    "        new_x1, new_x2 = A.dot(v) + p\n",
    "        print(f'({x1, x2}) -> ({new_x1}, {new_x2})')\n",
    "    print()"
   ]
  },
  {
   "cell_type": "code",
   "execution_count": 7,
   "metadata": {},
   "outputs": [
    {
     "name": "stdout",
     "output_type": "stream",
     "text": [
      "[[0. 0.]\n",
      " [0. 0.]\n",
      " [0. 0.]]\n"
     ]
    }
   ],
   "source": [
    "output = np.zeros((height, width))\n",
    "print(output)"
   ]
  },
  {
   "cell_type": "code",
   "execution_count": 8,
   "metadata": {},
   "outputs": [
    {
     "name": "stdout",
     "output_type": "stream",
     "text": [
      "[[4. 5.]\n",
      " [2. 3.]\n",
      " [0. 1.]]\n"
     ]
    }
   ],
   "source": [
    "# implement naively for the sake of simplicity\n",
    "height = 3\n",
    "width = 2\n",
    "img = np.arange(6).reshape(3, 2)\n",
    "\n",
    "A = np.array([[1, 0],\n",
    "              [0, -1]])\n",
    "p = np.array([0, H-1])\n",
    "\n",
    "for x2 in range(height):\n",
    "    for x1 in range(width):      \n",
    "        v = np.array([x1, x2])\n",
    "        color = img[x2, x1]\n",
    "\n",
    "        new_x1, new_x2 = A.dot(v) + p\n",
    "        output[new_x2, new_x1] = color\n",
    "\n",
    "# print output\n",
    "print(output)"
   ]
  },
  {
   "cell_type": "code",
   "execution_count": null,
   "metadata": {},
   "outputs": [],
   "source": []
  },
  {
   "cell_type": "markdown",
   "metadata": {},
   "source": [
    "### For grayscale images"
   ]
  },
  {
   "cell_type": "code",
   "execution_count": 9,
   "metadata": {},
   "outputs": [
    {
     "data": {
      "text/plain": [
       "True"
      ]
     },
     "execution_count": 9,
     "metadata": {},
     "output_type": "execute_result"
    }
   ],
   "source": [
    "import cv2\n",
    "import numpy as np\n",
    "\n",
    "img = cv2.imread('nature_gray.png', 0)\n",
    "height, width = img.shape\n",
    "\n",
    "A = np.array([[1, 0],\n",
    "              [0, -1]])\n",
    "p = np.array([0, height-1])\n",
    "\n",
    "output = np.zeros((height, width))\n",
    "for x2 in range(height):\n",
    "    for x1 in range(width):\n",
    "        color = img[x2, x1]\n",
    "        v = np.array([x1, x2])\n",
    "\n",
    "        new_x1, new_x2 = A.dot(v) + p\n",
    "        output[new_x2, new_x1] = color\n",
    "\n",
    "cv2.imwrite('nature_gray_x.png', output)"
   ]
  },
  {
   "cell_type": "markdown",
   "metadata": {},
   "source": [
    "### Improved version of implementation"
   ]
  },
  {
   "cell_type": "code",
   "execution_count": 10,
   "metadata": {},
   "outputs": [
    {
     "name": "stdout",
     "output_type": "stream",
     "text": [
      "[[4. 5.]\n",
      " [2. 3.]\n",
      " [0. 1.]]\n"
     ]
    }
   ],
   "source": [
    "import numpy as np\n",
    "\n",
    "height = 3\n",
    "width = 2\n",
    "img = np.arange(6).reshape(3, 2)\n",
    "\n",
    "A = np.array([[1, 0],\n",
    "              [0, -1]])\n",
    "p = np.array([0, height-1])\n",
    "\n",
    "output = np.zeros((height, width))\n",
    "for x2 in range(height):\n",
    "    for x1 in range(width):      \n",
    "        v = np.array([x1, x2])\n",
    "        color = img[x2, x1]\n",
    "\n",
    "        new_x1, new_x2 = A.dot(v) + p\n",
    "        output[new_x2, new_x1] = color\n",
    "\n",
    "# print output\n",
    "print(output)"
   ]
  },
  {
   "cell_type": "code",
   "execution_count": 11,
   "metadata": {},
   "outputs": [
    {
     "name": "stdout",
     "output_type": "stream",
     "text": [
      "[[ 1  1  1]\n",
      " [ 0 -1 -2]]\n",
      "[[1 1 1]\n",
      " [2 1 0]]\n"
     ]
    }
   ],
   "source": [
    "A = np.array([[1, 0],\n",
    "              [0, -1]])\n",
    "\n",
    "vectors = np.array([[1, 1, 1],\n",
    "                    [0, 1, 2]])\n",
    "print(A.dot(vectors))\n",
    "\n",
    "H = 3\n",
    "p = np.array([0, H-1]).reshape(2, 1)\n",
    "print(A.dot(vectors) + p)"
   ]
  },
  {
   "cell_type": "code",
   "execution_count": null,
   "metadata": {},
   "outputs": [],
   "source": []
  },
  {
   "cell_type": "code",
   "execution_count": 12,
   "metadata": {},
   "outputs": [
    {
     "name": "stdout",
     "output_type": "stream",
     "text": [
      "[[4 5]\n",
      " [2 3]\n",
      " [0 1]]\n"
     ]
    }
   ],
   "source": [
    "import numpy as np\n",
    "\n",
    "height = 3\n",
    "width = 2\n",
    "img = np.arange(6).reshape(3, 2)\n",
    "\n",
    "A = np.array([[1, 0],\n",
    "              [0, -1]])\n",
    "p = np.array([0, height-1])\n",
    "\n",
    "# Create a grid of coordinates\n",
    "coords = np.indices((height, width)).reshape(2, -1)\n",
    "coords = np.vstack((coords[1], coords[0])) \n",
    "\n",
    "# Apply the transformation\n",
    "new_coords = A.dot(coords) + np.array([[0], [height-1]])\n",
    "new_coords = new_coords.reshape(2, height, width)\n",
    "output = img[new_coords[1], new_coords[0]]\n",
    "print(output)\n"
   ]
  },
  {
   "cell_type": "code",
   "execution_count": null,
   "metadata": {},
   "outputs": [],
   "source": []
  },
  {
   "cell_type": "code",
   "execution_count": 13,
   "metadata": {},
   "outputs": [
    {
     "data": {
      "text/plain": [
       "True"
      ]
     },
     "execution_count": 13,
     "metadata": {},
     "output_type": "execute_result"
    }
   ],
   "source": [
    "import cv2\n",
    "import numpy as np\n",
    "import matplotlib.pyplot as plt\n",
    "\n",
    "img = cv2.imread('nature_gray.png', 0)\n",
    "height, width = img.shape\n",
    "\n",
    "# Create the transformation matrix\n",
    "transform = np.array([[1, 0],\n",
    "                      [0, -1]])\n",
    "\n",
    "# Create a grid of coordinates\n",
    "coords = np.indices((height, width)).reshape(2, -1)\n",
    "coords = np.vstack((coords[1], coords[0]))\n",
    "\n",
    "# Apply the transformation\n",
    "new_coords = transform.dot(coords) + np.array([[0], [height-1]])\n",
    "new_coords = new_coords.reshape(2, height, width)\n",
    "\n",
    "# Use advanced indexing to apply the transformation\n",
    "output = img[new_coords[1], new_coords[0]]\n",
    "cv2.imwrite('nature_gray_x_2.jpg', output)"
   ]
  },
  {
   "cell_type": "code",
   "execution_count": null,
   "metadata": {},
   "outputs": [],
   "source": []
  }
 ],
 "metadata": {
  "kernelspec": {
   "display_name": "torchenv",
   "language": "python",
   "name": "python3"
  },
  "language_info": {
   "codemirror_mode": {
    "name": "ipython",
    "version": 3
   },
   "file_extension": ".py",
   "mimetype": "text/x-python",
   "name": "python",
   "nbconvert_exporter": "python",
   "pygments_lexer": "ipython3",
   "version": "3.12.0"
  }
 },
 "nbformat": 4,
 "nbformat_minor": 2
}
