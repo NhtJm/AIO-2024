{
 "cells": [
  {
   "cell_type": "code",
   "execution_count": 6,
   "metadata": {},
   "outputs": [
    {
     "name": "stdout",
     "output_type": "stream",
     "text": [
      "(500, 1200, 3)\n"
     ]
    },
    {
     "data": {
      "text/plain": [
       "True"
      ]
     },
     "execution_count": 6,
     "metadata": {},
     "output_type": "execute_result"
    }
   ],
   "source": [
    "import cv2\n",
    "import numpy as np\n",
    "\n",
    "img = cv2.imread('nature.png', 1)\n",
    "img = img.astype(float)\n",
    "height, width, depth = img.shape\n",
    "\n",
    "transform = np.array([[1, 0],\n",
    "                      [0, -1]])\n",
    "\n",
    "print(img.shape)\n",
    "\n",
    "output = np.zeros((height, width, depth))\n",
    "for i in range(height):\n",
    "    for j in range(width):\n",
    "        pixel = img[i, j, :]\n",
    "        \n",
    "        new_j, new_i = transform.dot(np.array([j, i]))\n",
    "        output[new_i, new_j, :] = pixel\n",
    "        \n",
    "output = output.astype(np.uint8)\n",
    "cv2.imwrite('flipping_x2.jpg', output)"
   ]
  },
  {
   "cell_type": "code",
   "execution_count": 8,
   "metadata": {},
   "outputs": [
    {
     "data": {
      "text/plain": [
       "True"
      ]
     },
     "execution_count": 8,
     "metadata": {},
     "output_type": "execute_result"
    }
   ],
   "source": [
    "import cv2\n",
    "import numpy as np\n",
    "\n",
    "img = cv2.imread('nature.png', 1)\n",
    "img = img.astype(float)\n",
    "height, width, depth = img.shape\n",
    "\n",
    "# Create the transformation matrix\n",
    "transform = np.array([[1, 0],\n",
    "                      [0, -1]])\n",
    "\n",
    "# Create a grid of coordinates\n",
    "coords = np.indices((height, width)).reshape(2, -1)\n",
    "coords = np.vstack((coords[1], coords[0]))  # Swap rows to get (x, y) format\n",
    "\n",
    "# Apply the transformation\n",
    "new_coords = transform.dot(coords) + np.array([[0], [height-1]])\n",
    "\n",
    "# Reshape the new coordinates to match the image shape\n",
    "new_coords = new_coords.reshape(2, height, width)\n",
    "output = img[new_coords[1], new_coords[0]]\n",
    "\n",
    "output = output.astype(np.uint8)\n",
    "cv2.imwrite('flipping_x_2.jpg', output)"
   ]
  },
  {
   "cell_type": "code",
   "execution_count": null,
   "metadata": {},
   "outputs": [],
   "source": []
  },
  {
   "cell_type": "code",
   "execution_count": null,
   "metadata": {},
   "outputs": [],
   "source": []
  },
  {
   "cell_type": "code",
   "execution_count": 7,
   "metadata": {},
   "outputs": [
    {
     "data": {
      "text/plain": [
       "True"
      ]
     },
     "execution_count": 7,
     "metadata": {},
     "output_type": "execute_result"
    }
   ],
   "source": [
    "import cv2\n",
    "import numpy as np\n",
    "\n",
    "img = cv2.imread('nature.png', 1)\n",
    "img = img.astype(float)\n",
    "height, width, depth = img.shape\n",
    "\n",
    "transform = np.array([[-1, 0],\n",
    "                      [0, 1]])\n",
    "\n",
    "output = np.zeros((height, width, depth))\n",
    "for i in range(height):\n",
    "    for j in range(width):\n",
    "        pixel = img[i, j, :]        \n",
    "        new_j, new_i = transform.dot(np.array([j, i]))\n",
    "        output[new_i, new_j, :] = pixel\n",
    "        \n",
    "output = output.astype(np.uint8)\n",
    "cv2.imwrite('flipping_y2.jpg', output)"
   ]
  },
  {
   "cell_type": "code",
   "execution_count": null,
   "metadata": {},
   "outputs": [],
   "source": []
  }
 ],
 "metadata": {
  "kernelspec": {
   "display_name": "torchenv",
   "language": "python",
   "name": "python3"
  },
  "language_info": {
   "codemirror_mode": {
    "name": "ipython",
    "version": 3
   },
   "file_extension": ".py",
   "mimetype": "text/x-python",
   "name": "python",
   "nbconvert_exporter": "python",
   "pygments_lexer": "ipython3",
   "version": "3.12.0"
  }
 },
 "nbformat": 4,
 "nbformat_minor": 2
}
