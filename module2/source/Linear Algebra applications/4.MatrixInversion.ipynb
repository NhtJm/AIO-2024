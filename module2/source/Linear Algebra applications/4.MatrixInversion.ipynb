{
 "cells": [
  {
   "cell_type": "markdown",
   "id": "3a471be7",
   "metadata": {},
   "source": [
    "### example 1"
   ]
  },
  {
   "cell_type": "code",
   "execution_count": null,
   "id": "71e9310e",
   "metadata": {},
   "outputs": [],
   "source": [
    "import numpy as np\n",
    "\n",
    "A = np.array([[108.55, 20.3],\n",
    "              [20.3, 4.]])\n",
    "A_inversed = np.linalg.inv(A)\n",
    "\n",
    "print(A)\n",
    "print(A_inversed)"
   ]
  },
  {
   "cell_type": "code",
   "execution_count": null,
   "id": "ef96fe99",
   "metadata": {},
   "outputs": [],
   "source": [
    "# check\n",
    "np.set_printoptions(suppress=True)\n",
    "\n",
    "print(A.dot(A_inversed))\n",
    "print(A_inversed.dot(A))"
   ]
  },
  {
   "cell_type": "code",
   "execution_count": null,
   "id": "571155bb",
   "metadata": {},
   "outputs": [],
   "source": []
  },
  {
   "cell_type": "markdown",
   "id": "4d288ae4",
   "metadata": {},
   "source": [
    "### example 2"
   ]
  },
  {
   "cell_type": "code",
   "execution_count": null,
   "id": "e6194eac",
   "metadata": {},
   "outputs": [],
   "source": [
    "import numpy as np\n",
    "\n",
    "A = np.array([[1, 2],\n",
    "              [4, 6]])\n",
    "A_inversed = np.linalg.inv(A)\n",
    "\n",
    "print(A)\n",
    "print(A_inversed)"
   ]
  },
  {
   "cell_type": "code",
   "execution_count": null,
   "id": "9354774e",
   "metadata": {},
   "outputs": [],
   "source": []
  },
  {
   "cell_type": "code",
   "execution_count": null,
   "id": "4ab94630",
   "metadata": {},
   "outputs": [],
   "source": [
    "# check\n",
    "print(A.dot(A_inversed))\n",
    "print(A_inversed.dot(A))"
   ]
  },
  {
   "cell_type": "code",
   "execution_count": null,
   "id": "bc0ca029",
   "metadata": {},
   "outputs": [],
   "source": []
  },
  {
   "cell_type": "code",
   "execution_count": null,
   "id": "036a148a",
   "metadata": {},
   "outputs": [],
   "source": []
  },
  {
   "cell_type": "code",
   "execution_count": 1,
   "id": "1ffc1c59",
   "metadata": {},
   "outputs": [
    {
     "name": "stdout",
     "output_type": "stream",
     "text": [
      "[[1 2]\n",
      " [3 4]]\n",
      "[[-2.   1. ]\n",
      " [ 1.5 -0.5]]\n"
     ]
    }
   ],
   "source": [
    "import numpy as np\n",
    "\n",
    "A = np.array([[1, 2],\n",
    "              [3, 4]])\n",
    "A_inversed = np.linalg.inv(A)\n",
    "\n",
    "print(A)\n",
    "print(A_inversed)"
   ]
  },
  {
   "cell_type": "code",
   "execution_count": 2,
   "id": "bc96e65f",
   "metadata": {},
   "outputs": [
    {
     "name": "stdout",
     "output_type": "stream",
     "text": [
      "[[1.0000000e+00 0.0000000e+00]\n",
      " [8.8817842e-16 1.0000000e+00]]\n"
     ]
    }
   ],
   "source": [
    "print(A.dot(A_inversed))"
   ]
  },
  {
   "cell_type": "code",
   "execution_count": 3,
   "id": "ab0b35b9",
   "metadata": {},
   "outputs": [
    {
     "name": "stdout",
     "output_type": "stream",
     "text": [
      "[[1.00000000e+00 0.00000000e+00]\n",
      " [1.11022302e-16 1.00000000e+00]]\n"
     ]
    }
   ],
   "source": [
    "print(A_inversed.dot(A))"
   ]
  },
  {
   "cell_type": "code",
   "execution_count": null,
   "id": "6b3e9f49",
   "metadata": {},
   "outputs": [],
   "source": []
  },
  {
   "cell_type": "markdown",
   "id": "72a8c7b9",
   "metadata": {},
   "source": [
    "### example 3"
   ]
  },
  {
   "cell_type": "code",
   "execution_count": 4,
   "id": "01b5828a",
   "metadata": {},
   "outputs": [
    {
     "name": "stdout",
     "output_type": "stream",
     "text": [
      "[[ 1  0  4]\n",
      " [ 0  1  2]\n",
      " [ 0 -3 -4]]\n",
      "[[ 1.  -6.  -2. ]\n",
      " [-0.  -2.  -1. ]\n",
      " [ 0.   1.5  0.5]]\n"
     ]
    }
   ],
   "source": [
    "import numpy as np\n",
    "\n",
    "A = np.array([[1, 0, 4],\n",
    "              [0, 1, 2],\n",
    "              [0, -3, -4]])\n",
    "A_inversed = np.linalg.inv(A)\n",
    "\n",
    "print(A)\n",
    "print(A_inversed)"
   ]
  },
  {
   "cell_type": "code",
   "execution_count": null,
   "id": "6d10c2ca",
   "metadata": {},
   "outputs": [],
   "source": []
  },
  {
   "cell_type": "code",
   "execution_count": 5,
   "id": "9964e5c6",
   "metadata": {},
   "outputs": [
    {
     "name": "stdout",
     "output_type": "stream",
     "text": [
      "[[ 1.0000000e+00  0.0000000e+00  0.0000000e+00]\n",
      " [ 0.0000000e+00  1.0000000e+00  0.0000000e+00]\n",
      " [ 0.0000000e+00 -8.8817842e-16  1.0000000e+00]]\n",
      "[[ 1.00000000e+00 -4.44089210e-16  0.00000000e+00]\n",
      " [ 0.00000000e+00  1.00000000e+00  0.00000000e+00]\n",
      " [ 0.00000000e+00  1.11022302e-16  1.00000000e+00]]\n"
     ]
    }
   ],
   "source": [
    "# check\n",
    "print(A.dot(A_inversed))\n",
    "print(A_inversed.dot(A))"
   ]
  },
  {
   "cell_type": "code",
   "execution_count": null,
   "id": "7ef17b81",
   "metadata": {},
   "outputs": [],
   "source": []
  },
  {
   "cell_type": "code",
   "execution_count": null,
   "id": "7d6d60ff",
   "metadata": {},
   "outputs": [],
   "source": []
  }
 ],
 "metadata": {
  "kernelspec": {
   "display_name": "Python 3 (ipykernel)",
   "language": "python",
   "name": "python3"
  },
  "language_info": {
   "codemirror_mode": {
    "name": "ipython",
    "version": 3
   },
   "file_extension": ".py",
   "mimetype": "text/x-python",
   "name": "python",
   "nbconvert_exporter": "python",
   "pygments_lexer": "ipython3",
   "version": "3.9.13"
  }
 },
 "nbformat": 4,
 "nbformat_minor": 5
}
