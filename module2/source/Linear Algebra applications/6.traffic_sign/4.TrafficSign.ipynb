{
 "cells": [
  {
   "cell_type": "markdown",
   "id": "0fb84ea7",
   "metadata": {},
   "source": [
    "### Traffic sign"
   ]
  },
  {
   "cell_type": "code",
   "execution_count": 1,
   "id": "f5721bc3",
   "metadata": {},
   "outputs": [],
   "source": [
    "import numpy as np\n",
    "import cv2\n",
    "import matplotlib.pyplot as plt\n",
    "\n",
    "\n",
    "# read a color image\n",
    "img1 = cv2.imread('sign1.png')\n",
    "img1 = cv2.resize(img1, (100, 100))\n",
    "\n",
    "img2 = cv2.imread('sign2.png')\n",
    "img2 = cv2.resize(img2, (100, 100))\n",
    "\n",
    "img3 = cv2.imread('sign3.png')\n",
    "img3 = cv2.resize(img3, (100, 100))\n",
    "\n",
    "img4 = cv2.imread('sign4.png')\n",
    "img4 = cv2.resize(img4, (100, 100))"
   ]
  },
  {
   "cell_type": "code",
   "execution_count": null,
   "id": "fd4bac10",
   "metadata": {},
   "outputs": [],
   "source": []
  },
  {
   "cell_type": "code",
   "execution_count": 2,
   "id": "fad52387",
   "metadata": {},
   "outputs": [
    {
     "data": {
      "text/plain": [
       "50.618766666666666"
      ]
     },
     "execution_count": 2,
     "metadata": {},
     "output_type": "execute_result"
    }
   ],
   "source": [
    "np.sum(np.abs(img1 - img2)) / (100*100*3)"
   ]
  },
  {
   "cell_type": "code",
   "execution_count": 3,
   "id": "afe5d2b8",
   "metadata": {},
   "outputs": [
    {
     "data": {
      "text/plain": [
       "171.84026666666668"
      ]
     },
     "execution_count": 3,
     "metadata": {},
     "output_type": "execute_result"
    }
   ],
   "source": [
    "np.sum(np.abs(img1 - img3)) / (100*100*3)"
   ]
  },
  {
   "cell_type": "code",
   "execution_count": 4,
   "id": "3fc5fad3",
   "metadata": {},
   "outputs": [
    {
     "data": {
      "text/plain": [
       "90.49526666666667"
      ]
     },
     "execution_count": 4,
     "metadata": {},
     "output_type": "execute_result"
    }
   ],
   "source": [
    "np.sum(np.abs(img1 - img4)) / (100*100*3)"
   ]
  },
  {
   "cell_type": "code",
   "execution_count": null,
   "id": "f9d58c56",
   "metadata": {},
   "outputs": [],
   "source": []
  },
  {
   "cell_type": "code",
   "execution_count": null,
   "id": "a878f179",
   "metadata": {},
   "outputs": [],
   "source": []
  },
  {
   "cell_type": "code",
   "execution_count": 5,
   "id": "f835f08f",
   "metadata": {},
   "outputs": [],
   "source": [
    "from numpy.linalg import norm\n",
    "\n",
    "def cos_sim(x, y):\n",
    "    x = x.flatten()\n",
    "    y = y.flatten()\n",
    "    \n",
    "    x = x.astype(np.float64)\n",
    "    y = y.astype(np.float64)\n",
    "    \n",
    "    cos_sim = np.dot(x, y) / (norm(x)*norm(y))\n",
    "    return cos_sim"
   ]
  },
  {
   "cell_type": "code",
   "execution_count": 6,
   "id": "146fa345",
   "metadata": {},
   "outputs": [
    {
     "data": {
      "text/plain": [
       "0.9547094275020529"
      ]
     },
     "execution_count": 6,
     "metadata": {},
     "output_type": "execute_result"
    }
   ],
   "source": [
    "cos_sim(img1, img2)"
   ]
  },
  {
   "cell_type": "code",
   "execution_count": 7,
   "id": "a6718559",
   "metadata": {},
   "outputs": [
    {
     "data": {
      "text/plain": [
       "0.5750955260394579"
      ]
     },
     "execution_count": 7,
     "metadata": {},
     "output_type": "execute_result"
    }
   ],
   "source": [
    "cos_sim(img1, img3)"
   ]
  },
  {
   "cell_type": "code",
   "execution_count": 8,
   "id": "cc2cd1a6",
   "metadata": {},
   "outputs": [
    {
     "data": {
      "text/plain": [
       "0.9669706203695292"
      ]
     },
     "execution_count": 8,
     "metadata": {},
     "output_type": "execute_result"
    }
   ],
   "source": [
    "cos_sim(img1, img4)"
   ]
  },
  {
   "cell_type": "code",
   "execution_count": null,
   "id": "551c6eba",
   "metadata": {},
   "outputs": [],
   "source": []
  }
 ],
 "metadata": {
  "kernelspec": {
   "display_name": "Python 3 (ipykernel)",
   "language": "python",
   "name": "python3"
  },
  "language_info": {
   "codemirror_mode": {
    "name": "ipython",
    "version": 3
   },
   "file_extension": ".py",
   "mimetype": "text/x-python",
   "name": "python",
   "nbconvert_exporter": "python",
   "pygments_lexer": "ipython3",
   "version": "3.12.0"
  }
 },
 "nbformat": 4,
 "nbformat_minor": 5
}
