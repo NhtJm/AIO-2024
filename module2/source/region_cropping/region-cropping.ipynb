{
 "cells": [
  {
   "cell_type": "code",
   "execution_count": 1,
   "metadata": {},
   "outputs": [
    {
     "data": {
      "text/plain": [
       "True"
      ]
     },
     "execution_count": 1,
     "metadata": {},
     "output_type": "execute_result"
    }
   ],
   "source": [
    "import cv2\n",
    "import numpy as np\n",
    "\n",
    "img = cv2.imread('image.jpg', 1)\n",
    "height, width, channel = img.shape\n",
    "\n",
    "x_0, y_0 = 470, 120\n",
    "x_1, y_1 = 800, 850\n",
    "color = np.array([0, 0, 255])\n",
    "\n",
    "img[y_0, x_0:x_1, :] = color\n",
    "img[y_1, x_0:x_1, :] = color\n",
    "img[y_0:y_1, x_0, :] = color\n",
    "img[y_0:y_1, x_1, :] = color\n",
    "\n",
    "cv2.imwrite('output_bb.jpg', img)"
   ]
  },
  {
   "cell_type": "code",
   "execution_count": 2,
   "metadata": {},
   "outputs": [
    {
     "data": {
      "text/plain": [
       "True"
      ]
     },
     "execution_count": 2,
     "metadata": {},
     "output_type": "execute_result"
    }
   ],
   "source": [
    "import cv2\n",
    "import numpy as np\n",
    "\n",
    "img = cv2.imread('image.jpg', 1)\n",
    "height, width, channel = img.shape\n",
    "\n",
    "x_0, y_0 = 470, 120\n",
    "x_1, y_1 = 800, 850\n",
    "\n",
    "region = img[y_0:y_1, x_0:x_1, :]\n",
    "cv2.imwrite('output_region.jpg', region)"
   ]
  }
 ],
 "metadata": {
  "kernelspec": {
   "display_name": "torchenv",
   "language": "python",
   "name": "python3"
  },
  "language_info": {
   "codemirror_mode": {
    "name": "ipython",
    "version": 3
   },
   "file_extension": ".py",
   "mimetype": "text/x-python",
   "name": "python",
   "nbconvert_exporter": "python",
   "pygments_lexer": "ipython3",
   "version": "3.12.0"
  }
 },
 "nbformat": 4,
 "nbformat_minor": 2
}
