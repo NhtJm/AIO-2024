{
 "cells": [
  {
   "cell_type": "markdown",
   "metadata": {},
   "source": [
    "### get file paths"
   ]
  },
  {
   "cell_type": "code",
   "execution_count": 1,
   "metadata": {},
   "outputs": [
    {
     "name": "stdout",
     "output_type": "stream",
     "text": [
      "samples/cat.5.jpg\n",
      "samples/cat.4.jpg\n",
      "samples/cat.0.jpg\n",
      "samples/dog.7866.jpg\n",
      "samples/cat.1.jpg\n",
      "samples/cat.3.jpg\n",
      "samples/dog.7864.jpg\n",
      "samples/dog.7865.jpg\n",
      "samples/cat.2.jpg\n"
     ]
    }
   ],
   "source": [
    "import glob\n",
    "\n",
    "file_paths = glob.glob('samples/*jpg')\n",
    "\n",
    "# print paths\n",
    "for path in file_paths:\n",
    "    print(path)"
   ]
  },
  {
   "cell_type": "markdown",
   "metadata": {},
   "source": [
    "### Load images (samples folder)"
   ]
  },
  {
   "cell_type": "code",
   "execution_count": 2,
   "metadata": {},
   "outputs": [
    {
     "name": "stdout",
     "output_type": "stream",
     "text": [
      "samples/cat.5.jpg (144, 175, 3)\n",
      "samples/cat.4.jpg (375, 499, 3)\n",
      "samples/cat.0.jpg (374, 500, 3)\n",
      "samples/dog.7866.jpg (500, 435, 3)\n",
      "samples/cat.1.jpg (280, 300, 3)\n",
      "samples/cat.3.jpg (414, 500, 3)\n",
      "samples/dog.7864.jpg (281, 359, 3)\n",
      "samples/dog.7865.jpg (332, 499, 3)\n",
      "samples/cat.2.jpg (396, 312, 3)\n"
     ]
    }
   ],
   "source": [
    "import glob\n",
    "import cv2\n",
    "\n",
    "file_paths = glob.glob('samples/*jpg')\n",
    "\n",
    "# read and resize images\n",
    "for path in file_paths:    \n",
    "    img = cv2.imread(path, 1)\n",
    "    print(path, img.shape)"
   ]
  },
  {
   "cell_type": "code",
   "execution_count": 3,
   "metadata": {},
   "outputs": [
    {
     "name": "stdout",
     "output_type": "stream",
     "text": [
      "samples/cat.5.jpg (50, 50, 3)\n",
      "samples/cat.4.jpg (50, 50, 3)\n",
      "samples/cat.0.jpg (50, 50, 3)\n",
      "samples/dog.7866.jpg (50, 50, 3)\n",
      "samples/cat.1.jpg (50, 50, 3)\n",
      "samples/cat.3.jpg (50, 50, 3)\n",
      "samples/dog.7864.jpg (50, 50, 3)\n",
      "samples/dog.7865.jpg (50, 50, 3)\n",
      "samples/cat.2.jpg (50, 50, 3)\n"
     ]
    }
   ],
   "source": [
    "import glob\n",
    "import cv2\n",
    "\n",
    "file_paths = glob.glob('samples/*jpg')\n",
    "\n",
    "# read and resize images\n",
    "for path in file_paths:    \n",
    "    img = cv2.imread(path, 1)\n",
    "    img = cv2.resize(img, (50, 50))\n",
    "    print(path, img.shape)"
   ]
  },
  {
   "cell_type": "code",
   "execution_count": 4,
   "metadata": {},
   "outputs": [
    {
     "name": "stdout",
     "output_type": "stream",
     "text": [
      "9\n"
     ]
    }
   ],
   "source": [
    "import glob\n",
    "import cv2\n",
    "\n",
    "file_paths = glob.glob('samples/*jpg')\n",
    "\n",
    "# read and resize images\n",
    "images = []\n",
    "for path in file_paths:    \n",
    "    img = cv2.imread(path, 1)\n",
    "    img = cv2.resize(img, (50, 50))\n",
    "    \n",
    "    # add to list\n",
    "    images.append(img)\n",
    "\n",
    "# test (images is a list)\n",
    "print(len(images))"
   ]
  },
  {
   "cell_type": "code",
   "execution_count": 5,
   "metadata": {},
   "outputs": [
    {
     "name": "stdout",
     "output_type": "stream",
     "text": [
      "(2, 2, 2)\n",
      "[[0 1]\n",
      " [2 3]]\n",
      "[[0 1]\n",
      " [2 3]]\n"
     ]
    }
   ],
   "source": [
    "import numpy as np\n",
    "arr1 = np.arange(4).reshape(2,2)\n",
    "arr2 = np.arange(4).reshape(2,2)\n",
    "data = [arr1, arr2]\n",
    "data = np.array(data)\n",
    "print(data.shape)\n",
    "print(data[0])\n",
    "print(data[1])\n"
   ]
  },
  {
   "cell_type": "code",
   "execution_count": 6,
   "metadata": {},
   "outputs": [
    {
     "name": "stdout",
     "output_type": "stream",
     "text": [
      "(9, 50, 50, 3)\n"
     ]
    }
   ],
   "source": [
    "import glob\n",
    "import cv2\n",
    "import numpy as np\n",
    "\n",
    "file_paths = glob.glob('samples/*jpg')\n",
    "\n",
    "# read and resize images\n",
    "images = []\n",
    "for path in file_paths:    \n",
    "    img = cv2.imread(path, 1)\n",
    "    img = cv2.resize(img, (50, 50))\n",
    "    \n",
    "    # add to list\n",
    "    images.append(img)\n",
    "\n",
    "# convert list to numpy array\n",
    "images = np.array(images)\n",
    "\n",
    "# test (images is an array)\n",
    "print(images.shape)"
   ]
  },
  {
   "cell_type": "code",
   "execution_count": 7,
   "metadata": {},
   "outputs": [
    {
     "data": {
      "text/plain": [
       "<matplotlib.image.AxesImage at 0x16ae30980>"
      ]
     },
     "execution_count": 7,
     "metadata": {},
     "output_type": "execute_result"
    },
    {
     "data": {
      "image/png": "[encoded data removed]",
      "text/plain": [
       "<Figure size 640x480 with 1 Axes>"
      ]
     },
     "metadata": {},
     "output_type": "display_data"
    }
   ],
   "source": [
    "import matplotlib.pyplot as plt\n",
    "\n",
    "an_image = images[1]\n",
    "an_image = cv2.cvtColor(an_image, \n",
    "                        cv2.COLOR_BGR2RGB)\n",
    "plt.imshow(an_image)"
   ]
  },
  {
   "cell_type": "code",
   "execution_count": 8,
   "metadata": {},
   "outputs": [
    {
     "data": {
      "image/png": "[encoded data removed]",
      "text/plain": [
       "<Figure size 400x200 with 1 Axes>"
      ]
     },
     "metadata": {},
     "output_type": "display_data"
    }
   ],
   "source": [
    "import matplotlib.pyplot as plt\n",
    "\n",
    "an_image = images[1]\n",
    "an_image = cv2.cvtColor(an_image, \n",
    "                        cv2.COLOR_BGR2RGB)\n",
    "plt.figure(figsize=(4, 2))\n",
    "plt.imshow(an_image)\n",
    "plt.axis('off')\n",
    "plt.show()"
   ]
  },
  {
   "cell_type": "code",
   "execution_count": 24,
   "metadata": {},
   "outputs": [],
   "source": []
  },
  {
   "cell_type": "markdown",
   "metadata": {},
   "source": [
    "### load image"
   ]
  },
  {
   "cell_type": "code",
   "execution_count": 9,
   "metadata": {},
   "outputs": [
    {
     "name": "stdout",
     "output_type": "stream",
     "text": [
      "(22000, 50, 50, 3)\n"
     ]
    }
   ],
   "source": [
    "import glob\n",
    "import cv2\n",
    "import numpy as np\n",
    "\n",
    "file_paths = glob.glob('train/*jpg')\n",
    "\n",
    "# read and resize images\n",
    "images = []\n",
    "for path in file_paths:    \n",
    "    img = cv2.imread(path, 1)\n",
    "    img = cv2.resize(img, (50, 50))\n",
    "    \n",
    "    # add to list\n",
    "    images.append(img)\n",
    "\n",
    "# convert list to numpy array\n",
    "images = np.array(images)\n",
    "\n",
    "# test (images is an array)\n",
    "print(images.shape)"
   ]
  },
  {
   "cell_type": "code",
   "execution_count": 10,
   "metadata": {},
   "outputs": [
    {
     "name": "stderr",
     "output_type": "stream",
     "text": [
      "100%|██████████| 22000/22000 [00:19<00:00, 1111.33it/s]"
     ]
    },
    {
     "name": "stdout",
     "output_type": "stream",
     "text": [
      "(22000, 50, 50, 3)\n"
     ]
    },
    {
     "name": "stderr",
     "output_type": "stream",
     "text": [
      "\n"
     ]
    }
   ],
   "source": [
    "# using \n",
    "\n",
    "import glob\n",
    "import cv2\n",
    "import numpy as np\n",
    "from tqdm import tqdm\n",
    "\n",
    "file_paths = glob.glob('train/*jpg')\n",
    "\n",
    "# read and resize images\n",
    "images = []\n",
    "for path in tqdm(file_paths):    \n",
    "    img = cv2.imread(path, 1)\n",
    "    img = cv2.resize(img, (50, 50))\n",
    "    \n",
    "    # add to list\n",
    "    images.append(img)\n",
    "\n",
    "# convert list to numpy array\n",
    "images = np.array(images)\n",
    "\n",
    "# test (images is an array)\n",
    "print(images.shape)"
   ]
  }
 ],
 "metadata": {
  "kernelspec": {
   "display_name": "Python 3 (ipykernel)",
   "language": "python",
   "name": "python3"
  },
  "language_info": {
   "codemirror_mode": {
    "name": "ipython",
    "version": 3
   },
   "file_extension": ".py",
   "mimetype": "text/x-python",
   "name": "python",
   "nbconvert_exporter": "python",
   "pygments_lexer": "ipython3",
   "version": "3.12.0"
  }
 },
 "nbformat": 4,
 "nbformat_minor": 2
}
