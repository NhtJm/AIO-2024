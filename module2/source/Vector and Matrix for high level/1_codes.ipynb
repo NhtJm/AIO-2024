{
  "cells": [
    {
      "cell_type": "markdown",
      "metadata": {
        "id": "3HukttoLJz8U"
      },
      "source": [
        "### Phép toán trên mảng(Array Math)"
      ]
    },
    {
      "cell_type": "code",
      "execution_count": 1,
      "metadata": {
        "id": "srdvX4UqJz8W"
      },
      "outputs": [
        {
          "name": "stdout",
          "output_type": "stream",
          "text": [
            "data x \n",
            " [1 2 3 4]\n",
            "data y \n",
            " [5 6 7 8]\n",
            "method 1 \n",
            " [ 6  8 10 12]\n",
            "method 2 \n",
            " [ 6  8 10 12]\n"
          ]
        }
      ],
      "source": [
        "# aivietnam.ai\n",
        "import numpy as np\n",
        "\n",
        "x = np.array([1,2,3,4])\n",
        "y = np.array([5,6,7,8])\n",
        "\n",
        "print('data x \\n', x)\n",
        "print('data y \\n', y)\n",
        "\n",
        "# Tổng của 2 mảng\n",
        "print('method 1 \\n', x + y)\n",
        "print('method 2 \\n', np.add(x, y))"
      ]
    },
    {
      "cell_type": "code",
      "execution_count": 2,
      "metadata": {
        "id": "Qpra0p2aJz8X"
      },
      "outputs": [
        {
          "name": "stdout",
          "output_type": "stream",
          "text": [
            "data x \n",
            " [5 6 7 8]\n",
            "data y \n",
            " [1 2 3 4]\n",
            "method 1 \n",
            " [4 4 4 4]\n",
            "method 2 \n",
            " [4 4 4 4]\n"
          ]
        }
      ],
      "source": [
        "# aivietnam.ai\n",
        "import numpy as np\n",
        "\n",
        "x = np.array([5,6,7,8])\n",
        "y = np.array([1,2,3,4])\n",
        "\n",
        "print('data x \\n', x)\n",
        "print('data y \\n', y)\n",
        "\n",
        "# Hiệu 2 mảng\n",
        "print('method 1 \\n', x - y)\n",
        "print('method 2 \\n', np.subtract(x, y))"
      ]
    },
    {
      "cell_type": "code",
      "execution_count": 3,
      "metadata": {
        "id": "Mn00Di9lJz8Y"
      },
      "outputs": [
        {
          "name": "stdout",
          "output_type": "stream",
          "text": [
            "data x \n",
            " [1 2 3 4]\n",
            "data y \n",
            " [5 6 7 8]\n",
            "method 1 \n",
            " [ 5 12 21 32]\n",
            "method 2 \n",
            " [ 5 12 21 32]\n"
          ]
        }
      ],
      "source": [
        "# aivietnam.ai\n",
        "import numpy as np\n",
        "\n",
        "x = np.array([1,2,3,4])\n",
        "y = np.array([5,6,7,8])\n",
        "\n",
        "print('data x \\n', x)\n",
        "print('data y \\n', y)\n",
        "\n",
        "# Tích các phần tử tương ứng giữa x và y\n",
        "print('method 1 \\n', x*y)\n",
        "print('method 2 \\n', np.multiply(x, y))"
      ]
    },
    {
      "cell_type": "code",
      "execution_count": 4,
      "metadata": {
        "id": "HWSjcSUlJz8Y"
      },
      "outputs": [
        {
          "name": "stdout",
          "output_type": "stream",
          "text": [
            "data x \n",
            " [5 6 7 8]\n",
            "data y \n",
            " [1 2 3 4]\n",
            "method 1 \n",
            " [5.         3.         2.33333333 2.        ]\n",
            "method 2 \n",
            " [5 3 2 2]\n",
            "method 3 \n",
            " [5.         3.         2.33333333 2.        ]\n"
          ]
        }
      ],
      "source": [
        "# aivietnam.ai\n",
        "import numpy as np\n",
        "\n",
        "x = np.array([5,6,7,8])\n",
        "y = np.array([1,2,3,4])\n",
        "\n",
        "print('data x \\n', x)\n",
        "print('data y \\n', y)\n",
        "\n",
        "# Phép chia các từng phần tương ứng x cho y\n",
        "print('method 1 \\n', x / y)\n",
        "print('method 2 \\n', x // y)\n",
        "print('method 3 \\n', np.divide(x, y))"
      ]
    },
    {
      "cell_type": "code",
      "execution_count": 5,
      "metadata": {
        "id": "433nwkkyJz8Y"
      },
      "outputs": [
        {
          "name": "stdout",
          "output_type": "stream",
          "text": [
            "data \n",
            " [1 2 3 4]\n",
            "sqrt \n",
            " [1.         1.41421356 1.73205081 2.        ]\n"
          ]
        }
      ],
      "source": [
        "# aivietnam.ai\n",
        "import numpy as np\n",
        "\n",
        "data = np.array([1,2,3,4])\n",
        "\n",
        "print('data \\n', data)\n",
        "\n",
        "# Căn bậc 2 từng phần tử trong data\n",
        "print('sqrt \\n', np.sqrt(data))"
      ]
    },
    {
      "cell_type": "code",
      "execution_count": 6,
      "metadata": {
        "id": "gFWvRPMIJz8Y"
      },
      "outputs": [
        {
          "name": "stdout",
          "output_type": "stream",
          "text": [
            "method 1 \n",
            " 8\n",
            "method 2 \n",
            " 8\n"
          ]
        }
      ],
      "source": [
        "# aivietnam.ai\n",
        "import numpy as np\n",
        "\n",
        "v = np.array([1, 2])\n",
        "w = np.array([2, 3])\n",
        "\n",
        "# Tính inner product giữa v và w\n",
        "print('method 1 \\n', v.T.dot(w))\n",
        "print('method 2 \\n', np.dot(v, w))"
      ]
    },
    {
      "cell_type": "code",
      "execution_count": 7,
      "metadata": {
        "id": "ty3qtKogJz8Z",
        "outputId": "6d769920-0957-4a65-d485-8dbb59ba08a4"
      },
      "outputs": [
        {
          "name": "stdout",
          "output_type": "stream",
          "text": [
            "method 1 \n",
            " 8\n",
            "method 2 \n",
            " 8\n"
          ]
        }
      ],
      "source": [
        "# aivietnam.ai\n",
        "import numpy as np\n",
        "\n",
        "v = np.array([1, 2])\n",
        "w = np.array([2, 3])\n",
        "\n",
        "# Tính inner product giữa v và w\n",
        "print('method 1 \\n', v.dot(w))\n",
        "print('method 2 \\n', np.dot(v, w))"
      ]
    },
    {
      "cell_type": "code",
      "execution_count": 8,
      "metadata": {
        "id": "kEx9hdI1Jz8Z",
        "outputId": "2207f067-f6bb-4f46-faa3-f3ef77be5615"
      },
      "outputs": [
        {
          "name": "stdout",
          "output_type": "stream",
          "text": [
            "\n",
            " matrix X \n",
            " [[1 2]\n",
            " [4 3]]\n",
            "\n",
            " vector v \n",
            " [1 2]\n",
            "\n",
            " method 1: X.dot(v) \n",
            " [ 5 10]\n",
            "\n",
            " method 1: v.dot(X) \n",
            " [9 8]\n",
            "\n",
            " method 2: X.dot(v) \n",
            " [ 5 10]\n",
            "\n",
            " method 2: v.dot(X) \n",
            " [9 8]\n"
          ]
        }
      ],
      "source": [
        "# aivietnam.ai\n",
        "import numpy as np\n",
        "\n",
        "X = np.array([[1,2],[4,3]])\n",
        "v = np.array([1,2])\n",
        "\n",
        "print('\\n matrix X \\n', X)\n",
        "print('\\n vector v \\n', v)\n",
        "\n",
        "# phép nhân giữa ma trận và vector\n",
        "print('\\n method 1: X.dot(v) \\n', X.dot(v))\n",
        "print('\\n method 1: v.dot(X) \\n', v.dot(X))\n",
        "print('\\n method 2: X.dot(v) \\n', np.dot(X, v))\n",
        "print('\\n method 2: v.dot(X) \\n', np.dot(v, X))"
      ]
    },
    {
      "cell_type": "code",
      "execution_count": 9,
      "metadata": {
        "id": "QTf2JU43Jz8Z"
      },
      "outputs": [
        {
          "name": "stdout",
          "output_type": "stream",
          "text": [
            " matrix X \n",
            " [[1 2]\n",
            " [4 3]]\n",
            "\n",
            " matrix Y \n",
            " [[2 3]\n",
            " [2 1]]\n",
            "\n",
            " method 1 \n",
            " [[ 6  5]\n",
            " [14 15]]\n",
            "\n",
            " method 2 \n",
            " [[ 6  5]\n",
            " [14 15]]\n"
          ]
        }
      ],
      "source": [
        "# aivietnam.ai\n",
        "import numpy as np\n",
        "\n",
        "X = np.array([[1,2],[4,3]])\n",
        "Y = np.array([[2,3],[2,1]])\n",
        "\n",
        "print(' matrix X \\n', X)\n",
        "print('\\n matrix Y \\n', Y)\n",
        "\n",
        "# Phép nhân giữa hai ma trận\n",
        "print('\\n method 1 \\n', X.dot(Y))\n",
        "print('\\n method 2 \\n', np.dot(X, Y))"
      ]
    },
    {
      "cell_type": "markdown",
      "metadata": {
        "id": "jq9Ph3M3Jz8a"
      },
      "source": [
        "### sum"
      ]
    },
    {
      "cell_type": "code",
      "execution_count": 10,
      "metadata": {
        "id": "AyMtnYUpJz8a",
        "outputId": "bbee9571-d4f8-430f-c533-0f16cc19e939"
      },
      "outputs": [
        {
          "name": "stdout",
          "output_type": "stream",
          "text": [
            "10\n",
            "[4 6]\n",
            "[3 7]\n"
          ]
        }
      ],
      "source": [
        "# aivietnam.ai\n",
        "import numpy as np\n",
        "\n",
        "X = np.array([[1,2],\n",
        "              [3,4]])\n",
        "\n",
        "# Tổng các phần tử của mảng\n",
        "print(np.sum(X))\n",
        "\n",
        " # Tính tổng theo từng cột\n",
        "print(np.sum(X, axis=0))\n",
        "\n",
        "# Tính tổng theo từng dòng\n",
        "print(np.sum(X, axis=1))"
      ]
    },
    {
      "cell_type": "code",
      "execution_count": 11,
      "metadata": {
        "id": "0mFhYtSpJz8a",
        "outputId": "7ba0551f-8450-4b4c-a42a-991645ae116f"
      },
      "outputs": [
        {
          "name": "stdout",
          "output_type": "stream",
          "text": [
            "[[1 2]\n",
            " [3 4]]\n",
            "[[1 3]\n",
            " [2 4]]\n"
          ]
        }
      ],
      "source": [
        "# aivietnam.ai\n",
        "import numpy as np\n",
        "\n",
        "X = np.array([[1,2],\n",
        "              [3,4]])\n",
        "print(X)\n",
        "\n",
        "#chuyển vị\n",
        "print(X.T)"
      ]
    },
    {
      "cell_type": "code",
      "execution_count": null,
      "metadata": {
        "id": "5xtBWLFEJz8a"
      },
      "outputs": [],
      "source": []
    },
    {
      "cell_type": "markdown",
      "metadata": {
        "id": "tF2dPyemJz8a"
      },
      "source": [
        "### argmin and argmax"
      ]
    },
    {
      "cell_type": "code",
      "execution_count": 12,
      "metadata": {
        "id": "dqSLjVHfJz8a",
        "outputId": "d0ad045b-133c-4e74-cc7e-9c21b5869ea3"
      },
      "outputs": [
        {
          "name": "stdout",
          "output_type": "stream",
          "text": [
            "2\n"
          ]
        }
      ],
      "source": [
        "import numpy as np\n",
        "\n",
        "x = np.array([4, 7, 1, 5])\n",
        "result = np.argmin(x)\n",
        "print(result)"
      ]
    },
    {
      "cell_type": "code",
      "execution_count": 13,
      "metadata": {
        "id": "tOxFHeZJJz8b",
        "outputId": "0c606287-fcb0-455e-b951-415858ecf3ae"
      },
      "outputs": [
        {
          "name": "stdout",
          "output_type": "stream",
          "text": [
            "1\n"
          ]
        }
      ],
      "source": [
        "import numpy as np\n",
        "\n",
        "x = np.array([4, 7, 1, 5])\n",
        "result = np.argmax(x)\n",
        "print(result)"
      ]
    },
    {
      "cell_type": "markdown",
      "metadata": {
        "id": "YiKRMKUXJz8b"
      },
      "source": [
        "### min and max"
      ]
    },
    {
      "cell_type": "code",
      "execution_count": 14,
      "metadata": {
        "id": "lJDns5r9Jz8b",
        "outputId": "55fd056e-ec91-40f1-af3c-42a9d4e61215"
      },
      "outputs": [
        {
          "name": "stdout",
          "output_type": "stream",
          "text": [
            "1\n"
          ]
        }
      ],
      "source": [
        "import numpy as np\n",
        "\n",
        "x = np.array([4, 7, 1, 5])\n",
        "result = np.min(x)\n",
        "print(result)"
      ]
    },
    {
      "cell_type": "code",
      "execution_count": 15,
      "metadata": {
        "id": "ckI_vUNNJz8b",
        "outputId": "3b0e81dd-0bb1-48de-f444-795596e41f04"
      },
      "outputs": [
        {
          "name": "stdout",
          "output_type": "stream",
          "text": [
            "7\n"
          ]
        }
      ],
      "source": [
        "import numpy as np\n",
        "\n",
        "x = np.array([4, 7, 1, 5])\n",
        "result = np.max(x)\n",
        "print(result)"
      ]
    },
    {
      "cell_type": "markdown",
      "metadata": {
        "id": "lb5BrQmjJz8c"
      },
      "source": [
        "### sum and average"
      ]
    },
    {
      "cell_type": "code",
      "execution_count": 16,
      "metadata": {
        "id": "enkh9rNcJz8c",
        "outputId": "20b8838f-9efd-40f7-d3b0-cf733735a689"
      },
      "outputs": [
        {
          "name": "stdout",
          "output_type": "stream",
          "text": [
            "30\n"
          ]
        }
      ],
      "source": [
        "import numpy as np\n",
        "\n",
        "x = np.array([6, 5, 7, 1, 9, 2])\n",
        "result = np.sum(x)\n",
        "print(result)"
      ]
    },
    {
      "cell_type": "code",
      "execution_count": 17,
      "metadata": {
        "id": "jZHbKf7tJz8c",
        "outputId": "467253f1-76da-492f-b769-1523f0675562"
      },
      "outputs": [
        {
          "name": "stdout",
          "output_type": "stream",
          "text": [
            "5.0\n"
          ]
        }
      ],
      "source": [
        "import numpy as np\n",
        "\n",
        "x = np.array([6, 5, 7, 1, 9, 2])\n",
        "result = np.mean(x)\n",
        "print(result)"
      ]
    }
  ],
  "metadata": {
    "colab": {
      "provenance": []
    },
    "kernelspec": {
      "display_name": "Python 3 (ipykernel)",
      "language": "python",
      "name": "python3"
    },
    "language_info": {
      "codemirror_mode": {
        "name": "ipython",
        "version": 3
      },
      "file_extension": ".py",
      "mimetype": "text/x-python",
      "name": "python",
      "nbconvert_exporter": "python",
      "pygments_lexer": "ipython3",
      "version": "3.12.0"
    }
  },
  "nbformat": 4,
  "nbformat_minor": 0
}
