{
  "cells": [
    {
      "cell_type": "code",
      "execution_count": 1,
      "id": "6cd579fd",
      "metadata": {
        "id": "6cd579fd",
        "outputId": "faff12c2-591f-4d95-b284-2445340a2d08"
      },
      "outputs": [
        {
          "name": "stdout",
          "output_type": "stream",
          "text": [
            "11\n"
          ]
        }
      ],
      "source": [
        "import numpy as np\n",
        "\n",
        "u = np.array([3, 2, 4, 1])\n",
        "v = np.array([2, 1, 0, 3])\n",
        "\n",
        "r = np.einsum('i,i->', u, v)\n",
        "print(r)"
      ]
    },
    {
      "cell_type": "code",
      "execution_count": 2,
      "id": "f51b1081",
      "metadata": {
        "id": "f51b1081",
        "outputId": "c2794434-4e50-433b-8b9a-313eb3e80b9a"
      },
      "outputs": [
        {
          "name": "stdout",
          "output_type": "stream",
          "text": [
            "[18 12 24  6]\n"
          ]
        }
      ],
      "source": [
        "import numpy as np\n",
        "\n",
        "u = np.array([3, 2, 4, 1])\n",
        "v = np.array([2, 1, 0, 3])\n",
        "\n",
        "r = np.einsum('i,j->i', u, v)\n",
        "print(r)"
      ]
    },
    {
      "cell_type": "code",
      "execution_count": 3,
      "id": "58cf3f3d",
      "metadata": {
        "id": "58cf3f3d",
        "outputId": "9496830f-9338-461c-c065-bffc5f999b62"
      },
      "outputs": [
        {
          "name": "stdout",
          "output_type": "stream",
          "text": [
            "[20 10  0 30]\n"
          ]
        }
      ],
      "source": [
        "import numpy as np\n",
        "\n",
        "u = np.array([3, 2, 4, 1])\n",
        "v = np.array([2, 1, 0, 3])\n",
        "\n",
        "r = np.einsum('i,j->j', u, v)\n",
        "print(r)"
      ]
    },
    {
      "cell_type": "code",
      "execution_count": 4,
      "id": "3792e4aa",
      "metadata": {
        "id": "3792e4aa",
        "outputId": "e8259e6f-c283-4df2-acbc-a62a560a55f1"
      },
      "outputs": [
        {
          "name": "stdout",
          "output_type": "stream",
          "text": [
            "[[ 6  3  0  9]\n",
            " [ 4  2  0  6]\n",
            " [ 8  4  0 12]\n",
            " [ 2  1  0  3]]\n"
          ]
        }
      ],
      "source": [
        "import numpy as np\n",
        "\n",
        "u = np.array([3, 2, 4, 1])\n",
        "v = np.array([2, 1, 0, 3])\n",
        "\n",
        "r = np.einsum('i,j->ij', u, v)\n",
        "print(r)"
      ]
    },
    {
      "cell_type": "code",
      "execution_count": 5,
      "id": "e9849389",
      "metadata": {
        "id": "e9849389",
        "outputId": "4c11dc6f-cfbd-4730-c6ea-0f3e8a9f5d90"
      },
      "outputs": [
        {
          "name": "stdout",
          "output_type": "stream",
          "text": [
            "[[0 3]\n",
            " [2 1]\n",
            " [1 4]]\n"
          ]
        }
      ],
      "source": [
        "import numpy as np\n",
        "\n",
        "A = np.array([[0, 2, 1],\n",
        "              [3, 1, 4]])\n",
        "T = np.einsum('ij->ji', A)\n",
        "print(T)"
      ]
    },
    {
      "cell_type": "code",
      "execution_count": 6,
      "id": "23415cc4",
      "metadata": {
        "id": "23415cc4",
        "outputId": "e1e5aa37-8177-41ed-af1b-cc8dffcd26c0"
      },
      "outputs": [
        {
          "name": "stdout",
          "output_type": "stream",
          "text": [
            "[5 1 3]\n"
          ]
        }
      ],
      "source": [
        "import numpy as np\n",
        "\n",
        "A = np.array([[5, 2, 1],\n",
        "                  [3, 1, 6],\n",
        "                  [2, 4, 3]])\n",
        "r = np.einsum('ii->i', A)\n",
        "print(r)"
      ]
    },
    {
      "cell_type": "code",
      "execution_count": 7,
      "id": "86ee1a9b",
      "metadata": {
        "id": "86ee1a9b",
        "outputId": "66e71389-d2e0-4106-d4f1-9febe6c34a1d"
      },
      "outputs": [
        {
          "name": "stdout",
          "output_type": "stream",
          "text": [
            "9\n"
          ]
        }
      ],
      "source": [
        "import numpy as np\n",
        "\n",
        "A = np.array([[5, 2, 1],\n",
        "              [3, 1, 6],\n",
        "              [2, 4, 3]])\n",
        "r = np.einsum('ii->', A)\n",
        "print(r)"
      ]
    },
    {
      "cell_type": "code",
      "execution_count": 8,
      "id": "105d937d",
      "metadata": {
        "id": "105d937d",
        "outputId": "1119e18a-9784-4741-d0dd-ca9b4e2165d6"
      },
      "outputs": [
        {
          "name": "stdout",
          "output_type": "stream",
          "text": [
            "[[3 0 2]\n",
            " [6 4 3]]\n"
          ]
        }
      ],
      "source": [
        "import numpy as np\n",
        "\n",
        "A = np.array([[3, 0, 1],\n",
        "              [2, 2, 3]])\n",
        "B = np.array([[1, 0, 2],\n",
        "              [3, 2, 1]])\n",
        "r = np.einsum('ij,ij->ij', A, B)\n",
        "print(r)"
      ]
    },
    {
      "cell_type": "code",
      "execution_count": 9,
      "id": "f76d8abc-16bc-4a8d-b049-8eb9241d7a92",
      "metadata": {
        "id": "f76d8abc-16bc-4a8d-b049-8eb9241d7a92",
        "outputId": "b9aafeee-4c7c-4e36-e46f-e4439142e56e"
      },
      "outputs": [
        {
          "name": "stdout",
          "output_type": "stream",
          "text": [
            "[[ 3  6]\n",
            " [18 32]]\n"
          ]
        }
      ],
      "source": [
        "import numpy as np\n",
        "\n",
        "A = np.array([[0, 2, 1],\n",
        "              [3, 1, 4]])\n",
        "B = np.array([[2, 5],\n",
        "              [0, 1],\n",
        "              [3, 4]])\n",
        "C = np.einsum('ij,jk->ik', A, B)\n",
        "print(C)"
      ]
    }
  ],
  "metadata": {
    "colab": {
      "provenance": []
    },
    "kernelspec": {
      "display_name": "Python 3 (ipykernel)",
      "language": "python",
      "name": "python3"
    },
    "language_info": {
      "codemirror_mode": {
        "name": "ipython",
        "version": 3
      },
      "file_extension": ".py",
      "mimetype": "text/x-python",
      "name": "python",
      "nbconvert_exporter": "python",
      "pygments_lexer": "ipython3",
      "version": "3.12.0"
    }
  },
  "nbformat": 4,
  "nbformat_minor": 5
}
