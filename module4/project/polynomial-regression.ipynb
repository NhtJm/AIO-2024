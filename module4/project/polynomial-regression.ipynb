{
 "cells": [
  {
   "cell_type": "code",
   "execution_count": 2,
   "metadata": {},
   "outputs": [],
   "source": [
    "import numpy as np"
   ]
  },
  {
   "cell_type": "code",
   "execution_count": 3,
   "metadata": {},
   "outputs": [],
   "source": [
    "def create_polynomial_features(X, degree=2): \n",
    "    \"\"\" Creates the polynomial features\n",
    "    Args:\n",
    "        X: A array tensor for the data. \n",
    "        degree: A intege for the degree of \n",
    "        the generated polynomial function.\n",
    "    \"\"\"\n",
    "    X_new = X\n",
    "    for i in range(2, degree+1):\n",
    "        X_new = np.c_[X_new, np.power(X, i)]\n",
    "    return X_new\n",
    "\n",
    "X = np.array([[1], [2], [3]])"
   ]
  },
  {
   "cell_type": "code",
   "execution_count": 27,
   "metadata": {},
   "outputs": [],
   "source": [
    "\"\"\"Examples\n",
    "Input:\n",
    "X = np.array([[1, 2],\n",
    "[2, 3], [3, 4]])\n",
    "degree = 2\n",
    "\n",
    "Output:\n",
    "X_poly = np.array([[1, 1, 2, 4],[2, 4, 3, 9], [3, 9, 4, 16]])\"\"\"\n",
    "\n",
    "def create_polynomial_features_2(X, degree=2):\n",
    "    \"\"\" Creates the polynomial features\n",
    "    Args:\n",
    "        X: A array tensor for the data. \n",
    "        degree: A intege for the degree of \n",
    "        the generated polynomial function.\n",
    "    \"\"\"\n",
    "\n",
    "    X_mem = []\n",
    "    for X_sub in X.T:\n",
    "        print(X_sub)\n",
    "        X_sub = X_sub.T\n",
    "        X_new = X_sub\n",
    "        for i in range(2, degree+1):\n",
    "            X_new = np.c_[X_new, np.power(X_sub, i)]\n",
    "            print(X_new)\n",
    "        X_mem.extend(X_new.T)\n",
    "    return np.c_[X_mem].T"
   ]
  },
  {
   "cell_type": "code",
   "execution_count": 28,
   "metadata": {},
   "outputs": [
    {
     "name": "stdout",
     "output_type": "stream",
     "text": [
      "[1 2 3]\n",
      "[[1 1]\n",
      " [2 4]\n",
      " [3 9]]\n",
      "[2 3 4]\n",
      "[[ 2  4]\n",
      " [ 3  9]\n",
      " [ 4 16]]\n",
      "[[ 1  1  2  4]\n",
      " [ 2  4  3  9]\n",
      " [ 3  9  4 16]]\n"
     ]
    }
   ],
   "source": [
    "X = np.array([[1, 2], [2, 3], [3, 4]])\n",
    "print(create_polynomial_features_2(X, 2))"
   ]
  }
 ],
 "metadata": {
  "kernelspec": {
   "display_name": "Python 3",
   "language": "python",
   "name": "python3"
  },
  "language_info": {
   "codemirror_mode": {
    "name": "ipython",
    "version": 3
   },
   "file_extension": ".py",
   "mimetype": "text/x-python",
   "name": "python",
   "nbconvert_exporter": "python",
   "pygments_lexer": "ipython3",
   "version": "3.12.0"
  }
 },
 "nbformat": 4,
 "nbformat_minor": 2
}
