{
 "cells": [
  {
   "cell_type": "code",
   "execution_count": 10,
   "metadata": {},
   "outputs": [],
   "source": [
    "import numpy as np\n",
    "import pandas as pd"
   ]
  },
  {
   "cell_type": "code",
   "execution_count": 11,
   "metadata": {},
   "outputs": [
    {
     "name": "stdout",
     "output_type": "stream",
     "text": [
      "        TV      Radio  Social Media       Sales  Influencer_Macro  \\\n",
      "0     16.0   6.566231      2.907983   54.732757             False   \n",
      "1     13.0   9.237765      2.409567   46.677897             False   \n",
      "2     41.0  15.886446      2.913410  150.177829             False   \n",
      "3     83.0  30.020028      6.922304  298.246340             False   \n",
      "4     15.0   8.437408      1.405998   56.594181             False   \n",
      "...    ...        ...           ...         ...               ...   \n",
      "4567  26.0   4.472360      0.717090   94.685866             False   \n",
      "4568  71.0  20.610685      6.545573  249.101915             False   \n",
      "4569  44.0  19.800072      5.096192  163.631457             False   \n",
      "4570  71.0  17.534640      1.940873  253.610411              True   \n",
      "4571  42.0  15.966688      5.046548  148.202414             False   \n",
      "\n",
      "      Influencer_Mega  Influencer_Micro  Influencer_Nano  \n",
      "0                True             False            False  \n",
      "1                True             False            False  \n",
      "2                True             False            False  \n",
      "3                True             False            False  \n",
      "4               False              True            False  \n",
      "...               ...               ...              ...  \n",
      "4567            False              True            False  \n",
      "4568            False             False             True  \n",
      "4569            False              True            False  \n",
      "4570            False             False            False  \n",
      "4571            False              True            False  \n",
      "\n",
      "[4572 rows x 8 columns]\n"
     ]
    }
   ],
   "source": [
    "df = pd.read_csv(\"SalesPrediction.csv\")\n",
    "\n",
    "df = pd.get_dummies(df) #One Hot Encoding\n",
    "print(df)"
   ]
  },
  {
   "cell_type": "code",
   "execution_count": 12,
   "metadata": {},
   "outputs": [],
   "source": [
    "# Handle Null values\n",
    "df = df.fillna(df.mean())\n",
    "\n",
    "# Get features\n",
    "X = df[['TV', 'Radio', 'Social Media', 'Influencer_Macro', 'Influencer_Mega', \n",
    "        'Influencer_Micro', 'Influencer_Nano']] \n",
    "y = df[['Sales']]\n",
    "\n",
    "# Train Test Split\n",
    "from sklearn.model_selection import train_test_split\n",
    "X_train, X_test, y_train, y_test = train_test_split(\n",
    "    X, y, test_size=0.3333333333, random_state=0)"
   ]
  },
  {
   "cell_type": "code",
   "execution_count": 13,
   "metadata": {},
   "outputs": [
    {
     "data": {
      "text/plain": [
       "54.190836143838"
      ]
     },
     "execution_count": 13,
     "metadata": {},
     "output_type": "execute_result"
    }
   ],
   "source": [
    "from sklearn.preprocessing import StandardScaler\n",
    "scaler = StandardScaler()\n",
    "X_train_processed = scaler.fit_transform(X_train) \n",
    "X_test_processed = scaler.transform(X_test)\n",
    "scaler.mean_[0]"
   ]
  },
  {
   "cell_type": "code",
   "execution_count": 14,
   "metadata": {},
   "outputs": [],
   "source": [
    "from sklearn.preprocessing import PolynomialFeatures \n",
    "poly_features = PolynomialFeatures(degree=2)\n",
    "X_train_poly = poly_features.fit_transform(X_train_processed)\n",
    "X_test_poly = poly_features.transform(X_test_processed)"
   ]
  },
  {
   "cell_type": "code",
   "execution_count": 15,
   "metadata": {},
   "outputs": [
    {
     "data": {
      "text/plain": [
       "0.9942184382758791"
      ]
     },
     "execution_count": 15,
     "metadata": {},
     "output_type": "execute_result"
    }
   ],
   "source": [
    "from sklearn.linear_model import LinearRegression \n",
    "from sklearn.metrics import r2_score\n",
    "poly_model = LinearRegression() \n",
    "poly_model.fit(X_train_poly , y_train)\n",
    "preds = poly_model.predict(X_test_poly)\n",
    "r2_score(y_test , preds)"
   ]
  }
 ],
 "metadata": {
  "kernelspec": {
   "display_name": "Python 3",
   "language": "python",
   "name": "python3"
  },
  "language_info": {
   "codemirror_mode": {
    "name": "ipython",
    "version": 3
   },
   "file_extension": ".py",
   "mimetype": "text/x-python",
   "name": "python",
   "nbconvert_exporter": "python",
   "pygments_lexer": "ipython3",
   "version": "3.12.0"
  }
 },
 "nbformat": 4,
 "nbformat_minor": 2
}
